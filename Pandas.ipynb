{
  "nbformat": 4,
  "nbformat_minor": 0,
  "metadata": {
    "colab": {
      "name": "Pandas.ipynb",
      "provenance": [],
      "collapsed_sections": []
    },
    "kernelspec": {
      "name": "python3",
      "display_name": "Python 3"
    }
  },
  "cells": [
    {
      "cell_type": "code",
      "metadata": {
        "id": "fZUYhP7GxutL",
        "colab_type": "code",
        "outputId": "9b694f49-a610-4442-d518-12bef7a76675",
        "colab": {
          "base_uri": "https://localhost:8080/",
          "height": 124
        }
      },
      "source": [
        "from google.colab import drive\n",
        "drive.mount('/content/drive')"
      ],
      "execution_count": 0,
      "outputs": [
        {
          "output_type": "stream",
          "text": [
            "Go to this URL in a browser: https://accounts.google.com/o/oauth2/auth?client_id=947318989803-6bn6qk8qdgf4n4g3pfee6491hc0brc4i.apps.googleusercontent.com&redirect_uri=urn%3Aietf%3Awg%3Aoauth%3A2.0%3Aoob&scope=email%20https%3A%2F%2Fwww.googleapis.com%2Fauth%2Fdocs.test%20https%3A%2F%2Fwww.googleapis.com%2Fauth%2Fdrive%20https%3A%2F%2Fwww.googleapis.com%2Fauth%2Fdrive.photos.readonly%20https%3A%2F%2Fwww.googleapis.com%2Fauth%2Fpeopleapi.readonly&response_type=code\n",
            "\n",
            "Enter your authorization code:\n",
            "··········\n",
            "Mounted at /content/drive\n"
          ],
          "name": "stdout"
        }
      ]
    },
    {
      "cell_type": "code",
      "metadata": {
        "id": "CHDlz8XNpsfT",
        "colab_type": "code",
        "colab": {}
      },
      "source": [
        "import os\n",
        "os.chdir ('/content/drive/My Drive/Data Analytics, ML, DL Workshop/Data Analytics - DAY 1')"
      ],
      "execution_count": 0,
      "outputs": []
    },
    {
      "cell_type": "markdown",
      "metadata": {
        "id": "haHHcyU7qCFY",
        "colab_type": "text"
      },
      "source": [
        "#Panel Data = Pandas"
      ]
    },
    {
      "cell_type": "markdown",
      "metadata": {
        "id": "i_aiquZ-qGtB",
        "colab_type": "text"
      },
      "source": [
        "EDA ( Exploratory Data Analysis )\n",
        "\n",
        "Using Pandas, we can accomplish five typical steps in the processing and \n",
        "analysis of data, regardless of the origin of data — \n",
        "load, prepare, manipulate, model, and analyze.\n",
        "\n",
        "*`pip install pandas`*\n",
        "\n",
        "Pandas deals with the following three data structures −\n",
        "\n",
        "    Series      -   1 Dimensional \n",
        "    DataFrame   -   2 Dimensional \n",
        "    Panel       -   3 Dimensional \n",
        "\n",
        "DataFrame is a container of Series, Panel is a container of DataFrame.\n",
        "(Visualisation of Data Frame)\n",
        "\n",
        "\n",
        "Series is a one-dimensional array like structure with homogeneous data with immutable size. \n",
        "\n",
        "\n",
        "DataFrame ( tabular Data ) is a two-dimensional array with heterogeneous data with mutable size.\n",
        "think of index (the rows) and the columns rather than axis 0 and axis 1.\n",
        "\n",
        "\n",
        "Panel is a three-dimensional data structure with heterogeneous data.\n",
        "Graphical Representation is similar to the 3D Array\n",
        "Layers for tabular data "
      ]
    },
    {
      "cell_type": "code",
      "metadata": {
        "id": "OCGC7xaKq0eE",
        "colab_type": "code",
        "colab": {}
      },
      "source": [
        "import pandas as pd"
      ],
      "execution_count": 0,
      "outputs": []
    },
    {
      "cell_type": "markdown",
      "metadata": {
        "id": "Rgxpz0rGszVQ",
        "colab_type": "text"
      },
      "source": [
        "#Series"
      ]
    },
    {
      "cell_type": "code",
      "metadata": {
        "id": "hfLX36lnq1lk",
        "colab_type": "code",
        "outputId": "baf93126-9947-4920-b91d-ea24d0afd455",
        "colab": {
          "base_uri": "https://localhost:8080/",
          "height": 52
        }
      },
      "source": [
        "\"\"\"\n",
        "Create an Empty Series\n",
        "\"\"\"\n",
        "s = pd.Series()\n",
        "print (type(s))\n",
        "print (s)\n"
      ],
      "execution_count": 0,
      "outputs": [
        {
          "output_type": "stream",
          "text": [
            "<class 'pandas.core.series.Series'>\n",
            "Series([], dtype: float64)\n"
          ],
          "name": "stdout"
        }
      ]
    },
    {
      "cell_type": "code",
      "metadata": {
        "id": "dWjjRTscq548",
        "colab_type": "code",
        "outputId": "d9a6c2ea-51af-4223-ce76-9edc355dfb11",
        "colab": {
          "base_uri": "https://localhost:8080/",
          "height": 87
        }
      },
      "source": [
        "\"\"\"\n",
        "Create a Series from list\n",
        "\"\"\"\n",
        "import pandas as pd\n",
        "\n",
        "thelist = [ 'sentence 1', 'sentence 2', 'sentence 3' ]\n",
        "s = pd.Series( thelist )\n",
        "print (s)\n"
      ],
      "execution_count": 0,
      "outputs": [
        {
          "output_type": "stream",
          "text": [
            "0    sentence 1\n",
            "1    sentence 2\n",
            "2    sentence 3\n",
            "dtype: object\n"
          ],
          "name": "stdout"
        }
      ]
    },
    {
      "cell_type": "code",
      "metadata": {
        "id": "j9tSiCD8q9ZK",
        "colab_type": "code",
        "outputId": "3813e206-4702-4bdd-f186-7e8811145295",
        "colab": {
          "base_uri": "https://localhost:8080/",
          "height": 35
        }
      },
      "source": [
        "\"\"\"\n",
        "Create a Series from ndarray\n",
        "\"\"\"\n",
        "import numpy as np\n",
        "import pandas as pd\n",
        "data = np.array(['a','b','c','d'])\n",
        "print (type(data ))\n"
      ],
      "execution_count": 0,
      "outputs": [
        {
          "output_type": "stream",
          "text": [
            "<class 'numpy.ndarray'>\n"
          ],
          "name": "stdout"
        }
      ]
    },
    {
      "cell_type": "code",
      "metadata": {
        "id": "Fs0syKT9rSNi",
        "colab_type": "code",
        "outputId": "991c34e9-1507-4f36-cd33-26c921b0d71b",
        "colab": {
          "base_uri": "https://localhost:8080/",
          "height": 121
        }
      },
      "source": [
        "s = pd.Series(data)\n",
        "print (type(s))\n",
        "print (s)\n",
        "# We did not pass any index, so by default, \n",
        "# it assigned the indexes ranging from 0 to len(data)-1"
      ],
      "execution_count": 0,
      "outputs": [
        {
          "output_type": "stream",
          "text": [
            "<class 'pandas.core.series.Series'>\n",
            "0    a\n",
            "1    b\n",
            "2    c\n",
            "3    d\n",
            "dtype: object\n"
          ],
          "name": "stdout"
        }
      ]
    },
    {
      "cell_type": "code",
      "metadata": {
        "id": "Sc_f7QOMrzxD",
        "colab_type": "code",
        "outputId": "3e4b0e61-bcc5-43f7-af68-533f1889aee6",
        "colab": {
          "base_uri": "https://localhost:8080/",
          "height": 35
        }
      },
      "source": [
        "# This returns range which can be converted to list\n",
        "print (s.index[:])"
      ],
      "execution_count": 0,
      "outputs": [
        {
          "output_type": "stream",
          "text": [
            "RangeIndex(start=0, stop=4, step=1)\n"
          ],
          "name": "stdout"
        }
      ]
    },
    {
      "cell_type": "code",
      "metadata": {
        "id": "AKuWzUlMr5Rb",
        "colab_type": "code",
        "outputId": "21936a2d-81cb-4ddb-efd2-a0e3bf2a7e8c",
        "colab": {
          "base_uri": "https://localhost:8080/",
          "height": 35
        }
      },
      "source": [
        "# This always returns an ndarray \n",
        "print (s.values[:])"
      ],
      "execution_count": 0,
      "outputs": [
        {
          "output_type": "stream",
          "text": [
            "['sentence 1' 'sentence 2' 'sentence 3']\n"
          ],
          "name": "stdout"
        }
      ]
    },
    {
      "cell_type": "code",
      "metadata": {
        "id": "mbK-jo74sMw4",
        "colab_type": "code",
        "colab": {}
      },
      "source": [
        "\"\"\"\n",
        "Customised Index value\n",
        "\"\"\"\n",
        "data = np.array(['a','b','c','d'])\n",
        "s = pd.Series(data,index=[100,101,102,103])\n",
        "print (s)"
      ],
      "execution_count": 0,
      "outputs": []
    },
    {
      "cell_type": "code",
      "metadata": {
        "id": "Az75Mp3tsW7B",
        "colab_type": "code",
        "outputId": "513b51f3-60a4-47d3-e583-557d7f4dd4a0",
        "colab": {
          "base_uri": "https://localhost:8080/",
          "height": 277
        }
      },
      "source": [
        "\"\"\"\n",
        "Accessing Data from Series with Position\n",
        "\"\"\"\n",
        "# Data in the series can be accessed similar to that in an ndarray.\n",
        "# No doubt we have given indexes, but we are accessing using position \n",
        "s = pd.Series([1,2,3,4,5],index = ['a','b','c','d','e'])\n",
        "print (s)"
      ],
      "execution_count": 0,
      "outputs": [
        {
          "output_type": "stream",
          "text": [
            "a    1\n",
            "b    2\n",
            "c    3\n",
            "d    4\n",
            "e    5\n",
            "dtype: int64\n",
            "1\n",
            "a    1\n",
            "b    2\n",
            "c    3\n",
            "dtype: int64\n",
            "c    3\n",
            "d    4\n",
            "e    5\n",
            "dtype: int64\n"
          ],
          "name": "stdout"
        }
      ]
    },
    {
      "cell_type": "code",
      "metadata": {
        "id": "k6Nz3Bw2siE3",
        "colab_type": "code",
        "colab": {}
      },
      "source": [
        "#retrieve the first element\n",
        "print (s[0])"
      ],
      "execution_count": 0,
      "outputs": []
    },
    {
      "cell_type": "code",
      "metadata": {
        "id": "eC2aGi5BskQC",
        "colab_type": "code",
        "colab": {}
      },
      "source": [
        "#retrieve the first three element\n",
        "print (s[:3])"
      ],
      "execution_count": 0,
      "outputs": []
    },
    {
      "cell_type": "code",
      "metadata": {
        "id": "oLejtmWssmX9",
        "colab_type": "code",
        "colab": {}
      },
      "source": [
        "#retrieve the last three element\n",
        "print (s[-3:])"
      ],
      "execution_count": 0,
      "outputs": []
    },
    {
      "cell_type": "markdown",
      "metadata": {
        "id": "YCnjvPI1s5NA",
        "colab_type": "text"
      },
      "source": [
        "#DataFrame"
      ]
    },
    {
      "cell_type": "markdown",
      "metadata": {
        "id": "1WcqfDgVs83f",
        "colab_type": "text"
      },
      "source": [
        "A Data frame is a two-dimensional data structure, i.e., \n",
        "data is aligned in a tabular fashion in rows and columns.\n",
        "You can think of it as an SQL table or a spreadsheet data representation"
      ]
    },
    {
      "cell_type": "code",
      "metadata": {
        "id": "b2noe8fys8I9",
        "colab_type": "code",
        "colab": {}
      },
      "source": [
        "\"\"\"\n",
        "Create an Empty DataFrame\n",
        "\"\"\"\n",
        "import pandas as pd\n",
        "df = pd.DataFrame()\n",
        "print (df)"
      ],
      "execution_count": 0,
      "outputs": []
    },
    {
      "cell_type": "code",
      "metadata": {
        "id": "y5lW-wg0tEHU",
        "colab_type": "code",
        "colab": {}
      },
      "source": [
        "\"\"\"\n",
        "Create a DataFrame from Lists\n",
        "\"\"\"\n",
        "import pandas as pd\n",
        "data = [1,2,3,4,5]\n",
        "df = pd.DataFrame(data)\n",
        "print (df) "
      ],
      "execution_count": 0,
      "outputs": []
    },
    {
      "cell_type": "code",
      "metadata": {
        "id": "C8tpX49ttFQs",
        "colab_type": "code",
        "colab": {}
      },
      "source": [
        "\"\"\"\n",
        "Create a DataFrame from List of Lists\n",
        "\"\"\"\n",
        "import pandas as pd\n",
        "data = [['Alex',10],['Bob',12],['Clarke',13]]\n",
        "df = pd.DataFrame(data,columns=['Name','Age'])\n",
        "print (df)"
      ],
      "execution_count": 0,
      "outputs": []
    },
    {
      "cell_type": "code",
      "metadata": {
        "id": "C_eqVpurtRfd",
        "colab_type": "code",
        "outputId": "cbe9429d-1958-4e31-fae8-f07479a00371",
        "colab": {
          "base_uri": "https://localhost:8080/",
          "height": 104
        }
      },
      "source": [
        "\"\"\"\n",
        "Create a DataFrame from Dict of Series\n",
        "\"\"\"\n",
        "# Dictionary of Series can be passed to form a DataFrame. \n",
        "# The resultant index is the union of all the series indexes passed.\n",
        "import pandas as pd\n",
        "d = {'one' : pd.Series([1, 2, 3], index=['a', 'b', 'c']),\n",
        "      'two' : pd.Series([1, 2, 3, 4], index=['a', 'b', 'c', 'd'])}\n",
        "\n",
        "df = pd.DataFrame(d)\n",
        "print (df)"
      ],
      "execution_count": 0,
      "outputs": [
        {
          "output_type": "stream",
          "text": [
            "   one  two\n",
            "a  1.0    1\n",
            "b  2.0    2\n",
            "c  3.0    3\n",
            "d  NaN    4\n"
          ],
          "name": "stdout"
        }
      ]
    },
    {
      "cell_type": "code",
      "metadata": {
        "id": "kI4PZk0zthHu",
        "colab_type": "code",
        "outputId": "d2fb4d94-f4a8-4889-cd3e-0467750bbca8",
        "colab": {
          "base_uri": "https://localhost:8080/",
          "height": 35
        }
      },
      "source": [
        "# Row Selection by Label or index\n",
        "print (df.loc['d'])"
      ],
      "execution_count": 0,
      "outputs": [
        {
          "output_type": "stream",
          "text": [
            "<class 'pandas.core.series.Series'>\n"
          ],
          "name": "stdout"
        }
      ]
    },
    {
      "cell_type": "code",
      "metadata": {
        "id": "MwxgcsL1t2_v",
        "colab_type": "code",
        "outputId": "5463b1d8-128e-4008-b80f-7f2e7c0eb242",
        "colab": {
          "base_uri": "https://localhost:8080/",
          "height": 69
        }
      },
      "source": [
        "# Selection by integer location\n",
        "print (df.iloc[1]) # position by default starts from 0 for the indexes "
      ],
      "execution_count": 0,
      "outputs": [
        {
          "output_type": "stream",
          "text": [
            "one    2.0\n",
            "two    2.0\n",
            "Name: b, dtype: float64\n"
          ],
          "name": "stdout"
        }
      ]
    },
    {
      "cell_type": "markdown",
      "metadata": {
        "id": "8sNbEWbfui0n",
        "colab_type": "text"
      },
      "source": [
        "1. Getting and Knowing Your Data\n",
        "2. Filtering and Sorting\n",
        "3. Grouping\n",
        "4. Apply\n",
        "5. Merge\n",
        "6. Stats\n",
        "7. Visualisation\n",
        "8  Creatig Series and Data FRame\n",
        "9. Time Series\n",
        "10. Deleting\n",
        "11 Indexing\n",
        "\n",
        "    Read and examine a dataset and classify variables by their type: quantitative vs. categorical\n",
        "    Handle categorical variables with numerically coded values\n",
        "    Perform univariate and bivariate analysis and derive meaningful insights about the dataset\n",
        "    Identify and treat missing values and remove dataset outliers\n",
        "    Build a correlation matrix to identify relevant variables\n",
        "\n",
        ">>> Indexing\n",
        "\n",
        ">>> Computation\n",
        "\n",
        ">>> Grouping\n",
        "\n",
        ">>> Aggregation"
      ]
    },
    {
      "cell_type": "code",
      "metadata": {
        "id": "KGd2goUmurHV",
        "colab_type": "code",
        "colab": {}
      },
      "source": [
        "#Read csv file\n",
        "df = pd.read_csv(\"Salaries.csv\")"
      ],
      "execution_count": 0,
      "outputs": []
    },
    {
      "cell_type": "code",
      "metadata": {
        "id": "Aoo-NIjrvV_T",
        "colab_type": "code",
        "outputId": "3ff042fa-34eb-4668-8307-5d5b6a4ca415",
        "colab": {
          "base_uri": "https://localhost:8080/",
          "height": 1000
        }
      },
      "source": [
        "# Not a good technique to print the Data Frame\n",
        "print (df)"
      ],
      "execution_count": 0,
      "outputs": [
        {
          "output_type": "stream",
          "text": [
            "         rank discipline   phd  service     sex    salary\n",
            "0        Prof          B  56.0       49    Male  186960.0\n",
            "1        Prof          A  12.0        6    Male   93000.0\n",
            "2        Prof          A  23.0       20    Male  110515.0\n",
            "3        Prof          A  40.0       31    Male  131205.0\n",
            "4        Prof          B  20.0       18    Male  104800.0\n",
            "5        Prof          A  20.0       20    Male  122400.0\n",
            "6   AssocProf          A  20.0       17    Male   81285.0\n",
            "7        Prof          A  18.0       18    Male       NaN\n",
            "8        Prof          A  29.0       19    Male   94350.0\n",
            "9        Prof          A  51.0       51    Male   57800.0\n",
            "10       Prof          B  39.0       33    Male  128250.0\n",
            "11       Prof          B  23.0       23    Male  134778.0\n",
            "12   AsstProf          B   1.0        0    Male   88000.0\n",
            "13       Prof          B   NaN       33    Male  162200.0\n",
            "14       Prof          B  25.0       19    Male  153750.0\n",
            "15       Prof          B  17.0        3    Male  150480.0\n",
            "16   AsstProf          B   8.0        3    Male   75044.0\n",
            "17   AsstProf          B   4.0        0    Male   92000.0\n",
            "18       Prof          A  19.0        7    Male  107300.0\n",
            "19       Prof          A  29.0       27    Male  150500.0\n",
            "20   AsstProf          B   4.0        4    Male   92000.0\n",
            "21       Prof          A  33.0       30    Male  103106.0\n",
            "22   AsstProf          A   4.0        2    Male   73000.0\n",
            "23   AsstProf          A   2.0        0    Male   85000.0\n",
            "24       Prof          A  30.0       23    Male   91100.0\n",
            "25       Prof          B  35.0       31    Male   99418.0\n",
            "26       Prof          A  38.0       19    Male  148750.0\n",
            "27       Prof          A  45.0       43    Male  155865.0\n",
            "28   AsstProf          B   7.0        2    Male       NaN\n",
            "29       Prof          B  21.0       20    Male  123683.0\n",
            "..        ...        ...   ...      ...     ...       ...\n",
            "48       Prof          B  17.0       17  Female  111512.0\n",
            "49       Prof          B  17.0       18  Female  122960.0\n",
            "50   AsstProf          B  10.0        5  Female   97032.0\n",
            "51       Prof          B  20.0       14  Female  127512.0\n",
            "52       Prof          A  12.0        0  Female  105000.0\n",
            "53   AsstProf          A   5.0        3  Female   73500.0\n",
            "54  AssocProf          A  25.0       22  Female   62884.0\n",
            "55   AsstProf          A   2.0        0  Female   72500.0\n",
            "56  AssocProf          A  10.0        8  Female   77500.0\n",
            "57   AsstProf          A   3.0        1  Female   72500.0\n",
            "58       Prof          B  36.0       26  Female  144651.0\n",
            "59  AssocProf          B  12.0       10  Female  103994.0\n",
            "60   AsstProf          B   3.0        3  Female   92000.0\n",
            "61  AssocProf          B  13.0       10  Female  103750.0\n",
            "62  AssocProf          B  14.0        7  Female  109650.0\n",
            "63       Prof          A  29.0       27  Female   91000.0\n",
            "64  AssocProf          A  26.0       24  Female   73300.0\n",
            "65       Prof          A  36.0       19  Female  117555.0\n",
            "66   AsstProf          A   7.0        6  Female   63100.0\n",
            "67       Prof          A  17.0       11  Female   90450.0\n",
            "68   AsstProf          A   4.0        2  Female   77500.0\n",
            "69       Prof          A  28.0        7  Female  116450.0\n",
            "70   AsstProf          A   8.0        3  Female   78500.0\n",
            "71  AssocProf          B  12.0        9  Female   71065.0\n",
            "72       Prof          B  24.0       15  Female  161101.0\n",
            "73       Prof          B  18.0       10  Female  105450.0\n",
            "74  AssocProf          B  19.0        6  Female  104542.0\n",
            "75       Prof          B  17.0       17  Female  124312.0\n",
            "76       Prof          A  28.0       14  Female  109954.0\n",
            "77       Prof          A  23.0       15  Female  109646.0\n",
            "\n",
            "[78 rows x 6 columns]\n"
          ],
          "name": "stdout"
        }
      ]
    },
    {
      "cell_type": "code",
      "metadata": {
        "id": "OlVZGRsPvePJ",
        "colab_type": "code",
        "colab": {}
      },
      "source": [
        "df.info()  # phd and salary column has 76 entries, 2 missing or not null values"
      ],
      "execution_count": 0,
      "outputs": []
    },
    {
      "cell_type": "code",
      "metadata": {
        "id": "pf3DR6MwvlkM",
        "colab_type": "code",
        "colab": {}
      },
      "source": [
        "#number of dimensions\n",
        "df.ndim  "
      ],
      "execution_count": 0,
      "outputs": []
    },
    {
      "cell_type": "code",
      "metadata": {
        "id": "Vm6i7QxsvpUE",
        "colab_type": "code",
        "colab": {}
      },
      "source": [
        "#return a tuple representing the dimensionality\n",
        "df.shape "
      ],
      "execution_count": 0,
      "outputs": []
    },
    {
      "cell_type": "code",
      "metadata": {
        "id": "JWgG5_1Nvr2j",
        "colab_type": "code",
        "colab": {}
      },
      "source": [
        "#number of elements\n",
        "df.size    #( 78 * 6 = 468 )"
      ],
      "execution_count": 0,
      "outputs": []
    },
    {
      "cell_type": "code",
      "metadata": {
        "id": "Avnr7WWHvvOu",
        "colab_type": "code",
        "colab": {}
      },
      "source": [
        "#List first 5 records\n",
        "df.head()"
      ],
      "execution_count": 0,
      "outputs": []
    },
    {
      "cell_type": "code",
      "metadata": {
        "id": "oe50n_Psvyza",
        "colab_type": "code",
        "colab": {}
      },
      "source": [
        "df.head(10)"
      ],
      "execution_count": 0,
      "outputs": []
    },
    {
      "cell_type": "code",
      "metadata": {
        "id": "5VV97HZ7v2E7",
        "colab_type": "code",
        "colab": {}
      },
      "source": [
        "df.tail(5)"
      ],
      "execution_count": 0,
      "outputs": []
    },
    {
      "cell_type": "code",
      "metadata": {
        "id": "NqwjlgQAv6DA",
        "colab_type": "code",
        "outputId": "c2ae7a72-593b-40ea-f6eb-d2227084bf10",
        "colab": {
          "base_uri": "https://localhost:8080/",
          "height": 35
        }
      },
      "source": [
        "# Gives the row Indexes\n",
        "df.index        # list(df.index) or df.index.tolist()"
      ],
      "execution_count": 0,
      "outputs": [
        {
          "output_type": "execute_result",
          "data": {
            "text/plain": [
              "RangeIndex(start=0, stop=78, step=1)"
            ]
          },
          "metadata": {
            "tags": []
          },
          "execution_count": 23
        }
      ]
    },
    {
      "cell_type": "code",
      "metadata": {
        "id": "8-Vd83Z0wAPE",
        "colab_type": "code",
        "colab": {}
      },
      "source": [
        "#list the column names / column Indexes\n",
        "df.columns      # list(df.columns) df.columns.tolist()"
      ],
      "execution_count": 0,
      "outputs": []
    },
    {
      "cell_type": "code",
      "metadata": {
        "id": "BPKZqh25wH0C",
        "colab_type": "code",
        "colab": {}
      },
      "source": [
        "#list the row labels/index and column names\n",
        "df.axes"
      ],
      "execution_count": 0,
      "outputs": []
    },
    {
      "cell_type": "code",
      "metadata": {
        "id": "XXl1COhPwDa3",
        "colab_type": "code",
        "colab": {}
      },
      "source": [
        "#Check types for all the columns\n",
        "df.dtypes"
      ],
      "execution_count": 0,
      "outputs": []
    },
    {
      "cell_type": "code",
      "metadata": {
        "id": "94dpzCdWwSOv",
        "colab_type": "code",
        "outputId": "da197fe2-d7c1-4c91-d4de-4193e1a4a674",
        "colab": {
          "base_uri": "https://localhost:8080/",
          "height": 1000
        }
      },
      "source": [
        "#numpy representation of the data\n",
        "df.values   # return ndarray of ndarray or list of lists"
      ],
      "execution_count": 0,
      "outputs": [
        {
          "output_type": "execute_result",
          "data": {
            "text/plain": [
              "array([['Prof', 'B', 56.0, 49, 'Male', 186960.0],\n",
              "       ['Prof', 'A', 12.0, 6, 'Male', 93000.0],\n",
              "       ['Prof', 'A', 23.0, 20, 'Male', 110515.0],\n",
              "       ['Prof', 'A', 40.0, 31, 'Male', 131205.0],\n",
              "       ['Prof', 'B', 20.0, 18, 'Male', 104800.0],\n",
              "       ['Prof', 'A', 20.0, 20, 'Male', 122400.0],\n",
              "       ['AssocProf', 'A', 20.0, 17, 'Male', 81285.0],\n",
              "       ['Prof', 'A', 18.0, 18, 'Male', nan],\n",
              "       ['Prof', 'A', 29.0, 19, 'Male', 94350.0],\n",
              "       ['Prof', 'A', 51.0, 51, 'Male', 57800.0],\n",
              "       ['Prof', 'B', 39.0, 33, 'Male', 128250.0],\n",
              "       ['Prof', 'B', 23.0, 23, 'Male', 134778.0],\n",
              "       ['AsstProf', 'B', 1.0, 0, 'Male', 88000.0],\n",
              "       ['Prof', 'B', nan, 33, 'Male', 162200.0],\n",
              "       ['Prof', 'B', 25.0, 19, 'Male', 153750.0],\n",
              "       ['Prof', 'B', 17.0, 3, 'Male', 150480.0],\n",
              "       ['AsstProf', 'B', 8.0, 3, 'Male', 75044.0],\n",
              "       ['AsstProf', 'B', 4.0, 0, 'Male', 92000.0],\n",
              "       ['Prof', 'A', 19.0, 7, 'Male', 107300.0],\n",
              "       ['Prof', 'A', 29.0, 27, 'Male', 150500.0],\n",
              "       ['AsstProf', 'B', 4.0, 4, 'Male', 92000.0],\n",
              "       ['Prof', 'A', 33.0, 30, 'Male', 103106.0],\n",
              "       ['AsstProf', 'A', 4.0, 2, 'Male', 73000.0],\n",
              "       ['AsstProf', 'A', 2.0, 0, 'Male', 85000.0],\n",
              "       ['Prof', 'A', 30.0, 23, 'Male', 91100.0],\n",
              "       ['Prof', 'B', 35.0, 31, 'Male', 99418.0],\n",
              "       ['Prof', 'A', 38.0, 19, 'Male', 148750.0],\n",
              "       ['Prof', 'A', 45.0, 43, 'Male', 155865.0],\n",
              "       ['AsstProf', 'B', 7.0, 2, 'Male', nan],\n",
              "       ['Prof', 'B', 21.0, 20, 'Male', 123683.0],\n",
              "       ['AssocProf', 'B', 9.0, 7, 'Male', 107008.0],\n",
              "       ['Prof', 'B', 22.0, 21, 'Male', 155750.0],\n",
              "       ['Prof', 'A', 27.0, 19, 'Male', 103275.0],\n",
              "       ['Prof', 'B', 18.0, 18, 'Male', 120000.0],\n",
              "       ['AssocProf', 'B', nan, 8, 'Male', 119800.0],\n",
              "       ['Prof', 'B', 28.0, 23, 'Male', 126933.0],\n",
              "       ['Prof', 'B', 45.0, 45, 'Male', 146856.0],\n",
              "       ['Prof', 'A', 20.0, 8, 'Male', 102000.0],\n",
              "       ['AsstProf', 'B', 4.0, 3, 'Male', 91000.0],\n",
              "       ['Prof', 'B', 18.0, 18, 'Female', 129000.0],\n",
              "       ['Prof', 'A', 39.0, 36, 'Female', 137000.0],\n",
              "       ['AssocProf', 'A', 13.0, 8, 'Female', 74830.0],\n",
              "       ['AsstProf', 'B', 4.0, 2, 'Female', 80225.0],\n",
              "       ['AsstProf', 'B', 5.0, 0, 'Female', 77000.0],\n",
              "       ['Prof', 'B', 23.0, 19, 'Female', 151768.0],\n",
              "       ['Prof', 'B', 25.0, 25, 'Female', 140096.0],\n",
              "       ['AsstProf', 'B', 11.0, 3, 'Female', 74692.0],\n",
              "       ['AssocProf', 'B', 11.0, 11, 'Female', 103613.0],\n",
              "       ['Prof', 'B', 17.0, 17, 'Female', 111512.0],\n",
              "       ['Prof', 'B', 17.0, 18, 'Female', 122960.0],\n",
              "       ['AsstProf', 'B', 10.0, 5, 'Female', 97032.0],\n",
              "       ['Prof', 'B', 20.0, 14, 'Female', 127512.0],\n",
              "       ['Prof', 'A', 12.0, 0, 'Female', 105000.0],\n",
              "       ['AsstProf', 'A', 5.0, 3, 'Female', 73500.0],\n",
              "       ['AssocProf', 'A', 25.0, 22, 'Female', 62884.0],\n",
              "       ['AsstProf', 'A', 2.0, 0, 'Female', 72500.0],\n",
              "       ['AssocProf', 'A', 10.0, 8, 'Female', 77500.0],\n",
              "       ['AsstProf', 'A', 3.0, 1, 'Female', 72500.0],\n",
              "       ['Prof', 'B', 36.0, 26, 'Female', 144651.0],\n",
              "       ['AssocProf', 'B', 12.0, 10, 'Female', 103994.0],\n",
              "       ['AsstProf', 'B', 3.0, 3, 'Female', 92000.0],\n",
              "       ['AssocProf', 'B', 13.0, 10, 'Female', 103750.0],\n",
              "       ['AssocProf', 'B', 14.0, 7, 'Female', 109650.0],\n",
              "       ['Prof', 'A', 29.0, 27, 'Female', 91000.0],\n",
              "       ['AssocProf', 'A', 26.0, 24, 'Female', 73300.0],\n",
              "       ['Prof', 'A', 36.0, 19, 'Female', 117555.0],\n",
              "       ['AsstProf', 'A', 7.0, 6, 'Female', 63100.0],\n",
              "       ['Prof', 'A', 17.0, 11, 'Female', 90450.0],\n",
              "       ['AsstProf', 'A', 4.0, 2, 'Female', 77500.0],\n",
              "       ['Prof', 'A', 28.0, 7, 'Female', 116450.0],\n",
              "       ['AsstProf', 'A', 8.0, 3, 'Female', 78500.0],\n",
              "       ['AssocProf', 'B', 12.0, 9, 'Female', 71065.0],\n",
              "       ['Prof', 'B', 24.0, 15, 'Female', 161101.0],\n",
              "       ['Prof', 'B', 18.0, 10, 'Female', 105450.0],\n",
              "       ['AssocProf', 'B', 19.0, 6, 'Female', 104542.0],\n",
              "       ['Prof', 'B', 17.0, 17, 'Female', 124312.0],\n",
              "       ['Prof', 'A', 28.0, 14, 'Female', 109954.0],\n",
              "       ['Prof', 'A', 23.0, 15, 'Female', 109646.0]], dtype=object)"
            ]
          },
          "metadata": {
            "tags": []
          },
          "execution_count": 26
        }
      ]
    },
    {
      "cell_type": "code",
      "metadata": {
        "id": "mDpv5pFqwj-m",
        "colab_type": "code",
        "outputId": "4950a9b9-8155-4956-c6d7-f14cbf41a1b1",
        "colab": {
          "base_uri": "https://localhost:8080/",
          "height": 294
        }
      },
      "source": [
        "# generate descriptive statistics (for numeric columns only)\n",
        "# Standard Deviation is quite useful tool to figure out \n",
        "# how the data is spread above or below the mean.\n",
        "# The higher the value, the less is reliable or vice versa. \n",
        "df.describe() # For Numeric Columns only\n",
        "              # This gives a missing values in salary and phd columns"
      ],
      "execution_count": 0,
      "outputs": [
        {
          "output_type": "execute_result",
          "data": {
            "text/html": [
              "<div>\n",
              "<style scoped>\n",
              "    .dataframe tbody tr th:only-of-type {\n",
              "        vertical-align: middle;\n",
              "    }\n",
              "\n",
              "    .dataframe tbody tr th {\n",
              "        vertical-align: top;\n",
              "    }\n",
              "\n",
              "    .dataframe thead th {\n",
              "        text-align: right;\n",
              "    }\n",
              "</style>\n",
              "<table border=\"1\" class=\"dataframe\">\n",
              "  <thead>\n",
              "    <tr style=\"text-align: right;\">\n",
              "      <th></th>\n",
              "      <th>phd</th>\n",
              "      <th>service</th>\n",
              "      <th>salary</th>\n",
              "    </tr>\n",
              "  </thead>\n",
              "  <tbody>\n",
              "    <tr>\n",
              "      <th>count</th>\n",
              "      <td>76.000000</td>\n",
              "      <td>78.000000</td>\n",
              "      <td>76.000000</td>\n",
              "    </tr>\n",
              "    <tr>\n",
              "      <th>mean</th>\n",
              "      <td>19.605263</td>\n",
              "      <td>15.051282</td>\n",
              "      <td>108003.355263</td>\n",
              "    </tr>\n",
              "    <tr>\n",
              "      <th>std</th>\n",
              "      <td>12.508215</td>\n",
              "      <td>12.139768</td>\n",
              "      <td>28525.350088</td>\n",
              "    </tr>\n",
              "    <tr>\n",
              "      <th>min</th>\n",
              "      <td>1.000000</td>\n",
              "      <td>0.000000</td>\n",
              "      <td>57800.000000</td>\n",
              "    </tr>\n",
              "    <tr>\n",
              "      <th>25%</th>\n",
              "      <td>10.000000</td>\n",
              "      <td>5.250000</td>\n",
              "      <td>87250.000000</td>\n",
              "    </tr>\n",
              "    <tr>\n",
              "      <th>50%</th>\n",
              "      <td>18.500000</td>\n",
              "      <td>14.500000</td>\n",
              "      <td>104671.000000</td>\n",
              "    </tr>\n",
              "    <tr>\n",
              "      <th>75%</th>\n",
              "      <td>27.250000</td>\n",
              "      <td>20.750000</td>\n",
              "      <td>127077.750000</td>\n",
              "    </tr>\n",
              "    <tr>\n",
              "      <th>max</th>\n",
              "      <td>56.000000</td>\n",
              "      <td>51.000000</td>\n",
              "      <td>186960.000000</td>\n",
              "    </tr>\n",
              "  </tbody>\n",
              "</table>\n",
              "</div>"
            ],
            "text/plain": [
              "             phd    service         salary\n",
              "count  76.000000  78.000000      76.000000\n",
              "mean   19.605263  15.051282  108003.355263\n",
              "std    12.508215  12.139768   28525.350088\n",
              "min     1.000000   0.000000   57800.000000\n",
              "25%    10.000000   5.250000   87250.000000\n",
              "50%    18.500000  14.500000  104671.000000\n",
              "75%    27.250000  20.750000  127077.750000\n",
              "max    56.000000  51.000000  186960.000000"
            ]
          },
          "metadata": {
            "tags": []
          },
          "execution_count": 27
        }
      ]
    },
    {
      "cell_type": "code",
      "metadata": {
        "id": "Cjpu_COXxQdF",
        "colab_type": "code",
        "outputId": "1821ff39-2443-40c8-adca-38334d9bbf7d",
        "colab": {
          "base_uri": "https://localhost:8080/",
          "height": 386
        }
      },
      "source": [
        "# In order to see statistics on non-numerical features,\n",
        "#df.describe(include=['object', 'bool','float64','int64'])\n",
        "df.describe(include=['object', 'bool'])\n",
        "#df.describe(include=['float64','int64'])\n",
        "df.describe(include=['object','float64','int64'])"
      ],
      "execution_count": 0,
      "outputs": [
        {
          "output_type": "execute_result",
          "data": {
            "text/html": [
              "<div>\n",
              "<style scoped>\n",
              "    .dataframe tbody tr th:only-of-type {\n",
              "        vertical-align: middle;\n",
              "    }\n",
              "\n",
              "    .dataframe tbody tr th {\n",
              "        vertical-align: top;\n",
              "    }\n",
              "\n",
              "    .dataframe thead th {\n",
              "        text-align: right;\n",
              "    }\n",
              "</style>\n",
              "<table border=\"1\" class=\"dataframe\">\n",
              "  <thead>\n",
              "    <tr style=\"text-align: right;\">\n",
              "      <th></th>\n",
              "      <th>rank</th>\n",
              "      <th>discipline</th>\n",
              "      <th>phd</th>\n",
              "      <th>service</th>\n",
              "      <th>sex</th>\n",
              "      <th>salary</th>\n",
              "    </tr>\n",
              "  </thead>\n",
              "  <tbody>\n",
              "    <tr>\n",
              "      <th>count</th>\n",
              "      <td>78</td>\n",
              "      <td>78</td>\n",
              "      <td>76.000000</td>\n",
              "      <td>78.000000</td>\n",
              "      <td>78</td>\n",
              "      <td>76.000000</td>\n",
              "    </tr>\n",
              "    <tr>\n",
              "      <th>unique</th>\n",
              "      <td>3</td>\n",
              "      <td>2</td>\n",
              "      <td>NaN</td>\n",
              "      <td>NaN</td>\n",
              "      <td>2</td>\n",
              "      <td>NaN</td>\n",
              "    </tr>\n",
              "    <tr>\n",
              "      <th>top</th>\n",
              "      <td>Prof</td>\n",
              "      <td>B</td>\n",
              "      <td>NaN</td>\n",
              "      <td>NaN</td>\n",
              "      <td>Female</td>\n",
              "      <td>NaN</td>\n",
              "    </tr>\n",
              "    <tr>\n",
              "      <th>freq</th>\n",
              "      <td>46</td>\n",
              "      <td>42</td>\n",
              "      <td>NaN</td>\n",
              "      <td>NaN</td>\n",
              "      <td>39</td>\n",
              "      <td>NaN</td>\n",
              "    </tr>\n",
              "    <tr>\n",
              "      <th>mean</th>\n",
              "      <td>NaN</td>\n",
              "      <td>NaN</td>\n",
              "      <td>19.605263</td>\n",
              "      <td>15.051282</td>\n",
              "      <td>NaN</td>\n",
              "      <td>108003.355263</td>\n",
              "    </tr>\n",
              "    <tr>\n",
              "      <th>std</th>\n",
              "      <td>NaN</td>\n",
              "      <td>NaN</td>\n",
              "      <td>12.508215</td>\n",
              "      <td>12.139768</td>\n",
              "      <td>NaN</td>\n",
              "      <td>28525.350088</td>\n",
              "    </tr>\n",
              "    <tr>\n",
              "      <th>min</th>\n",
              "      <td>NaN</td>\n",
              "      <td>NaN</td>\n",
              "      <td>1.000000</td>\n",
              "      <td>0.000000</td>\n",
              "      <td>NaN</td>\n",
              "      <td>57800.000000</td>\n",
              "    </tr>\n",
              "    <tr>\n",
              "      <th>25%</th>\n",
              "      <td>NaN</td>\n",
              "      <td>NaN</td>\n",
              "      <td>10.000000</td>\n",
              "      <td>5.250000</td>\n",
              "      <td>NaN</td>\n",
              "      <td>87250.000000</td>\n",
              "    </tr>\n",
              "    <tr>\n",
              "      <th>50%</th>\n",
              "      <td>NaN</td>\n",
              "      <td>NaN</td>\n",
              "      <td>18.500000</td>\n",
              "      <td>14.500000</td>\n",
              "      <td>NaN</td>\n",
              "      <td>104671.000000</td>\n",
              "    </tr>\n",
              "    <tr>\n",
              "      <th>75%</th>\n",
              "      <td>NaN</td>\n",
              "      <td>NaN</td>\n",
              "      <td>27.250000</td>\n",
              "      <td>20.750000</td>\n",
              "      <td>NaN</td>\n",
              "      <td>127077.750000</td>\n",
              "    </tr>\n",
              "    <tr>\n",
              "      <th>max</th>\n",
              "      <td>NaN</td>\n",
              "      <td>NaN</td>\n",
              "      <td>56.000000</td>\n",
              "      <td>51.000000</td>\n",
              "      <td>NaN</td>\n",
              "      <td>186960.000000</td>\n",
              "    </tr>\n",
              "  </tbody>\n",
              "</table>\n",
              "</div>"
            ],
            "text/plain": [
              "        rank discipline        phd    service     sex         salary\n",
              "count     78         78  76.000000  78.000000      78      76.000000\n",
              "unique     3          2        NaN        NaN       2            NaN\n",
              "top     Prof          B        NaN        NaN  Female            NaN\n",
              "freq      46         42        NaN        NaN      39            NaN\n",
              "mean     NaN        NaN  19.605263  15.051282     NaN  108003.355263\n",
              "std      NaN        NaN  12.508215  12.139768     NaN   28525.350088\n",
              "min      NaN        NaN   1.000000   0.000000     NaN   57800.000000\n",
              "25%      NaN        NaN  10.000000   5.250000     NaN   87250.000000\n",
              "50%      NaN        NaN  18.500000  14.500000     NaN  104671.000000\n",
              "75%      NaN        NaN  27.250000  20.750000     NaN  127077.750000\n",
              "max      NaN        NaN  56.000000  51.000000     NaN  186960.000000"
            ]
          },
          "metadata": {
            "tags": []
          },
          "execution_count": 28
        }
      ]
    },
    {
      "cell_type": "code",
      "metadata": {
        "id": "AhWLsx1bxaZ9",
        "colab_type": "code",
        "outputId": "935a7fc1-fd75-4888-ca5c-8f724aedfdde",
        "colab": {
          "base_uri": "https://localhost:8080/",
          "height": 139
        }
      },
      "source": [
        "#return max values for all columns in form of Series\n",
        "df.max() "
      ],
      "execution_count": 0,
      "outputs": [
        {
          "output_type": "execute_result",
          "data": {
            "text/plain": [
              "rank            Prof\n",
              "discipline         B\n",
              "phd               56\n",
              "service           51\n",
              "sex             Male\n",
              "salary        186960\n",
              "dtype: object"
            ]
          },
          "metadata": {
            "tags": []
          },
          "execution_count": 30
        }
      ]
    },
    {
      "cell_type": "code",
      "metadata": {
        "id": "hj6ScxkFxgZu",
        "colab_type": "code",
        "outputId": "04b12146-f076-4a6f-a148-18ece49eaba8",
        "colab": {
          "base_uri": "https://localhost:8080/",
          "height": 139
        }
      },
      "source": [
        "#return min values for all columns in form of Series\n",
        "df.min()"
      ],
      "execution_count": 0,
      "outputs": [
        {
          "output_type": "execute_result",
          "data": {
            "text/plain": [
              "rank          AssocProf\n",
              "discipline            A\n",
              "phd                   1\n",
              "service               0\n",
              "sex              Female\n",
              "salary            57800\n",
              "dtype: object"
            ]
          },
          "metadata": {
            "tags": []
          },
          "execution_count": 31
        }
      ]
    },
    {
      "cell_type": "code",
      "metadata": {
        "id": "iC9YUoBEx2m4",
        "colab_type": "code",
        "colab": {}
      },
      "source": [
        "df.mean()\n",
        "df.median()\n",
        "df.std()"
      ],
      "execution_count": 0,
      "outputs": []
    },
    {
      "cell_type": "code",
      "metadata": {
        "id": "20snmJTUxsVS",
        "colab_type": "code",
        "colab": {}
      },
      "source": [
        "print(df.mean())\n",
        "print(df.median())\n",
        "print(df.std())"
      ],
      "execution_count": 0,
      "outputs": []
    },
    {
      "cell_type": "code",
      "metadata": {
        "id": "QHUZ46Bjx5At",
        "colab_type": "code",
        "colab": {}
      },
      "source": [
        "#What are the mean values of the first 50 records in the dataset?\n",
        "df.head(50).mean()"
      ],
      "execution_count": 0,
      "outputs": []
    },
    {
      "cell_type": "code",
      "metadata": {
        "id": "qJkG8AnTx9NF",
        "colab_type": "code",
        "colab": {}
      },
      "source": [
        "#returns a random sample of the data frame\n",
        "df.sample(5) "
      ],
      "execution_count": 0,
      "outputs": []
    },
    {
      "cell_type": "code",
      "metadata": {
        "id": "WPVjKvYfyDe_",
        "colab_type": "code",
        "outputId": "216cda02-b307-4c34-9d04-313aac0cbcaf",
        "colab": {
          "base_uri": "https://localhost:8080/",
          "height": 110
        }
      },
      "source": [
        "\"\"\"\n",
        "Data Frames: method loc\n",
        "\n",
        "If we need to select a range of rows, using their labels/index \n",
        "we can use method loc\n",
        "\"\"\"\n",
        "df.loc[:1]   # Both are inclusive for row"
      ],
      "execution_count": 0,
      "outputs": [
        {
          "output_type": "execute_result",
          "data": {
            "text/html": [
              "<div>\n",
              "<style scoped>\n",
              "    .dataframe tbody tr th:only-of-type {\n",
              "        vertical-align: middle;\n",
              "    }\n",
              "\n",
              "    .dataframe tbody tr th {\n",
              "        vertical-align: top;\n",
              "    }\n",
              "\n",
              "    .dataframe thead th {\n",
              "        text-align: right;\n",
              "    }\n",
              "</style>\n",
              "<table border=\"1\" class=\"dataframe\">\n",
              "  <thead>\n",
              "    <tr style=\"text-align: right;\">\n",
              "      <th></th>\n",
              "      <th>rank</th>\n",
              "      <th>discipline</th>\n",
              "      <th>phd</th>\n",
              "      <th>service</th>\n",
              "      <th>sex</th>\n",
              "      <th>salary</th>\n",
              "    </tr>\n",
              "  </thead>\n",
              "  <tbody>\n",
              "    <tr>\n",
              "      <th>0</th>\n",
              "      <td>Prof</td>\n",
              "      <td>B</td>\n",
              "      <td>56.0</td>\n",
              "      <td>49</td>\n",
              "      <td>Male</td>\n",
              "      <td>186960.0</td>\n",
              "    </tr>\n",
              "    <tr>\n",
              "      <th>1</th>\n",
              "      <td>Prof</td>\n",
              "      <td>A</td>\n",
              "      <td>12.0</td>\n",
              "      <td>6</td>\n",
              "      <td>Male</td>\n",
              "      <td>93000.0</td>\n",
              "    </tr>\n",
              "  </tbody>\n",
              "</table>\n",
              "</div>"
            ],
            "text/plain": [
              "   rank discipline   phd  service   sex    salary\n",
              "0  Prof          B  56.0       49  Male  186960.0\n",
              "1  Prof          A  12.0        6  Male   93000.0"
            ]
          },
          "metadata": {
            "tags": []
          },
          "execution_count": 34
        }
      ]
    },
    {
      "cell_type": "code",
      "metadata": {
        "id": "b3ipCLepySKc",
        "colab_type": "code",
        "outputId": "02e7e504-c8eb-46f7-a125-546b9ac8db06",
        "colab": {
          "base_uri": "https://localhost:8080/",
          "height": 386
        }
      },
      "source": [
        "df.loc[10:20]"
      ],
      "execution_count": 0,
      "outputs": [
        {
          "output_type": "execute_result",
          "data": {
            "text/html": [
              "<div>\n",
              "<style scoped>\n",
              "    .dataframe tbody tr th:only-of-type {\n",
              "        vertical-align: middle;\n",
              "    }\n",
              "\n",
              "    .dataframe tbody tr th {\n",
              "        vertical-align: top;\n",
              "    }\n",
              "\n",
              "    .dataframe thead th {\n",
              "        text-align: right;\n",
              "    }\n",
              "</style>\n",
              "<table border=\"1\" class=\"dataframe\">\n",
              "  <thead>\n",
              "    <tr style=\"text-align: right;\">\n",
              "      <th></th>\n",
              "      <th>rank</th>\n",
              "      <th>discipline</th>\n",
              "      <th>phd</th>\n",
              "      <th>service</th>\n",
              "      <th>sex</th>\n",
              "      <th>salary</th>\n",
              "    </tr>\n",
              "  </thead>\n",
              "  <tbody>\n",
              "    <tr>\n",
              "      <th>10</th>\n",
              "      <td>Prof</td>\n",
              "      <td>B</td>\n",
              "      <td>39.0</td>\n",
              "      <td>33</td>\n",
              "      <td>Male</td>\n",
              "      <td>128250.0</td>\n",
              "    </tr>\n",
              "    <tr>\n",
              "      <th>11</th>\n",
              "      <td>Prof</td>\n",
              "      <td>B</td>\n",
              "      <td>23.0</td>\n",
              "      <td>23</td>\n",
              "      <td>Male</td>\n",
              "      <td>134778.0</td>\n",
              "    </tr>\n",
              "    <tr>\n",
              "      <th>12</th>\n",
              "      <td>AsstProf</td>\n",
              "      <td>B</td>\n",
              "      <td>1.0</td>\n",
              "      <td>0</td>\n",
              "      <td>Male</td>\n",
              "      <td>88000.0</td>\n",
              "    </tr>\n",
              "    <tr>\n",
              "      <th>13</th>\n",
              "      <td>Prof</td>\n",
              "      <td>B</td>\n",
              "      <td>NaN</td>\n",
              "      <td>33</td>\n",
              "      <td>Male</td>\n",
              "      <td>162200.0</td>\n",
              "    </tr>\n",
              "    <tr>\n",
              "      <th>14</th>\n",
              "      <td>Prof</td>\n",
              "      <td>B</td>\n",
              "      <td>25.0</td>\n",
              "      <td>19</td>\n",
              "      <td>Male</td>\n",
              "      <td>153750.0</td>\n",
              "    </tr>\n",
              "    <tr>\n",
              "      <th>15</th>\n",
              "      <td>Prof</td>\n",
              "      <td>B</td>\n",
              "      <td>17.0</td>\n",
              "      <td>3</td>\n",
              "      <td>Male</td>\n",
              "      <td>150480.0</td>\n",
              "    </tr>\n",
              "    <tr>\n",
              "      <th>16</th>\n",
              "      <td>AsstProf</td>\n",
              "      <td>B</td>\n",
              "      <td>8.0</td>\n",
              "      <td>3</td>\n",
              "      <td>Male</td>\n",
              "      <td>75044.0</td>\n",
              "    </tr>\n",
              "    <tr>\n",
              "      <th>17</th>\n",
              "      <td>AsstProf</td>\n",
              "      <td>B</td>\n",
              "      <td>4.0</td>\n",
              "      <td>0</td>\n",
              "      <td>Male</td>\n",
              "      <td>92000.0</td>\n",
              "    </tr>\n",
              "    <tr>\n",
              "      <th>18</th>\n",
              "      <td>Prof</td>\n",
              "      <td>A</td>\n",
              "      <td>19.0</td>\n",
              "      <td>7</td>\n",
              "      <td>Male</td>\n",
              "      <td>107300.0</td>\n",
              "    </tr>\n",
              "    <tr>\n",
              "      <th>19</th>\n",
              "      <td>Prof</td>\n",
              "      <td>A</td>\n",
              "      <td>29.0</td>\n",
              "      <td>27</td>\n",
              "      <td>Male</td>\n",
              "      <td>150500.0</td>\n",
              "    </tr>\n",
              "    <tr>\n",
              "      <th>20</th>\n",
              "      <td>AsstProf</td>\n",
              "      <td>B</td>\n",
              "      <td>4.0</td>\n",
              "      <td>4</td>\n",
              "      <td>Male</td>\n",
              "      <td>92000.0</td>\n",
              "    </tr>\n",
              "  </tbody>\n",
              "</table>\n",
              "</div>"
            ],
            "text/plain": [
              "        rank discipline   phd  service   sex    salary\n",
              "10      Prof          B  39.0       33  Male  128250.0\n",
              "11      Prof          B  23.0       23  Male  134778.0\n",
              "12  AsstProf          B   1.0        0  Male   88000.0\n",
              "13      Prof          B   NaN       33  Male  162200.0\n",
              "14      Prof          B  25.0       19  Male  153750.0\n",
              "15      Prof          B  17.0        3  Male  150480.0\n",
              "16  AsstProf          B   8.0        3  Male   75044.0\n",
              "17  AsstProf          B   4.0        0  Male   92000.0\n",
              "18      Prof          A  19.0        7  Male  107300.0\n",
              "19      Prof          A  29.0       27  Male  150500.0\n",
              "20  AsstProf          B   4.0        4  Male   92000.0"
            ]
          },
          "metadata": {
            "tags": []
          },
          "execution_count": 35
        }
      ]
    },
    {
      "cell_type": "code",
      "metadata": {
        "id": "lTfUzGjMyV9U",
        "colab_type": "code",
        "outputId": "0138f312-7b12-4de5-86d1-810e8a7ab890",
        "colab": {
          "base_uri": "https://localhost:8080/",
          "height": 386
        }
      },
      "source": [
        "df.loc[10:20,['rank', 'phd']]"
      ],
      "execution_count": 0,
      "outputs": [
        {
          "output_type": "execute_result",
          "data": {
            "text/html": [
              "<div>\n",
              "<style scoped>\n",
              "    .dataframe tbody tr th:only-of-type {\n",
              "        vertical-align: middle;\n",
              "    }\n",
              "\n",
              "    .dataframe tbody tr th {\n",
              "        vertical-align: top;\n",
              "    }\n",
              "\n",
              "    .dataframe thead th {\n",
              "        text-align: right;\n",
              "    }\n",
              "</style>\n",
              "<table border=\"1\" class=\"dataframe\">\n",
              "  <thead>\n",
              "    <tr style=\"text-align: right;\">\n",
              "      <th></th>\n",
              "      <th>rank</th>\n",
              "      <th>phd</th>\n",
              "    </tr>\n",
              "  </thead>\n",
              "  <tbody>\n",
              "    <tr>\n",
              "      <th>10</th>\n",
              "      <td>Prof</td>\n",
              "      <td>39.0</td>\n",
              "    </tr>\n",
              "    <tr>\n",
              "      <th>11</th>\n",
              "      <td>Prof</td>\n",
              "      <td>23.0</td>\n",
              "    </tr>\n",
              "    <tr>\n",
              "      <th>12</th>\n",
              "      <td>AsstProf</td>\n",
              "      <td>1.0</td>\n",
              "    </tr>\n",
              "    <tr>\n",
              "      <th>13</th>\n",
              "      <td>Prof</td>\n",
              "      <td>NaN</td>\n",
              "    </tr>\n",
              "    <tr>\n",
              "      <th>14</th>\n",
              "      <td>Prof</td>\n",
              "      <td>25.0</td>\n",
              "    </tr>\n",
              "    <tr>\n",
              "      <th>15</th>\n",
              "      <td>Prof</td>\n",
              "      <td>17.0</td>\n",
              "    </tr>\n",
              "    <tr>\n",
              "      <th>16</th>\n",
              "      <td>AsstProf</td>\n",
              "      <td>8.0</td>\n",
              "    </tr>\n",
              "    <tr>\n",
              "      <th>17</th>\n",
              "      <td>AsstProf</td>\n",
              "      <td>4.0</td>\n",
              "    </tr>\n",
              "    <tr>\n",
              "      <th>18</th>\n",
              "      <td>Prof</td>\n",
              "      <td>19.0</td>\n",
              "    </tr>\n",
              "    <tr>\n",
              "      <th>19</th>\n",
              "      <td>Prof</td>\n",
              "      <td>29.0</td>\n",
              "    </tr>\n",
              "    <tr>\n",
              "      <th>20</th>\n",
              "      <td>AsstProf</td>\n",
              "      <td>4.0</td>\n",
              "    </tr>\n",
              "  </tbody>\n",
              "</table>\n",
              "</div>"
            ],
            "text/plain": [
              "        rank   phd\n",
              "10      Prof  39.0\n",
              "11      Prof  23.0\n",
              "12  AsstProf   1.0\n",
              "13      Prof   NaN\n",
              "14      Prof  25.0\n",
              "15      Prof  17.0\n",
              "16  AsstProf   8.0\n",
              "17  AsstProf   4.0\n",
              "18      Prof  19.0\n",
              "19      Prof  29.0\n",
              "20  AsstProf   4.0"
            ]
          },
          "metadata": {
            "tags": []
          },
          "execution_count": 36
        }
      ]
    },
    {
      "cell_type": "code",
      "metadata": {
        "id": "Kd_CGJeQyZk2",
        "colab_type": "code",
        "outputId": "547562d1-1122-47b6-b7e0-a80803a22876",
        "colab": {
          "base_uri": "https://localhost:8080/",
          "height": 110
        }
      },
      "source": [
        "\"\"\"\n",
        "Data Frames: method iloc\n",
        "\n",
        "If we need to select a range of rows and/or columns, \n",
        "using their positions we can use method iloc\n",
        "\"\"\"\n",
        "\n",
        "df.iloc[:2] # 2 is not inclusive for row"
      ],
      "execution_count": 0,
      "outputs": [
        {
          "output_type": "execute_result",
          "data": {
            "text/html": [
              "<div>\n",
              "<style scoped>\n",
              "    .dataframe tbody tr th:only-of-type {\n",
              "        vertical-align: middle;\n",
              "    }\n",
              "\n",
              "    .dataframe tbody tr th {\n",
              "        vertical-align: top;\n",
              "    }\n",
              "\n",
              "    .dataframe thead th {\n",
              "        text-align: right;\n",
              "    }\n",
              "</style>\n",
              "<table border=\"1\" class=\"dataframe\">\n",
              "  <thead>\n",
              "    <tr style=\"text-align: right;\">\n",
              "      <th></th>\n",
              "      <th>rank</th>\n",
              "      <th>discipline</th>\n",
              "      <th>phd</th>\n",
              "      <th>service</th>\n",
              "      <th>sex</th>\n",
              "      <th>salary</th>\n",
              "    </tr>\n",
              "  </thead>\n",
              "  <tbody>\n",
              "    <tr>\n",
              "      <th>0</th>\n",
              "      <td>Prof</td>\n",
              "      <td>B</td>\n",
              "      <td>56.0</td>\n",
              "      <td>49</td>\n",
              "      <td>Male</td>\n",
              "      <td>186960.0</td>\n",
              "    </tr>\n",
              "    <tr>\n",
              "      <th>1</th>\n",
              "      <td>Prof</td>\n",
              "      <td>A</td>\n",
              "      <td>12.0</td>\n",
              "      <td>6</td>\n",
              "      <td>Male</td>\n",
              "      <td>93000.0</td>\n",
              "    </tr>\n",
              "  </tbody>\n",
              "</table>\n",
              "</div>"
            ],
            "text/plain": [
              "   rank discipline   phd  service   sex    salary\n",
              "0  Prof          B  56.0       49  Male  186960.0\n",
              "1  Prof          A  12.0        6  Male   93000.0"
            ]
          },
          "metadata": {
            "tags": []
          },
          "execution_count": 37
        }
      ]
    },
    {
      "cell_type": "code",
      "metadata": {
        "id": "CSAQv8Y_1qyf",
        "colab_type": "code",
        "colab": {}
      },
      "source": [
        "df.iloc[ 10:21]"
      ],
      "execution_count": 0,
      "outputs": []
    },
    {
      "cell_type": "code",
      "metadata": {
        "id": "TmLIqupe1r6n",
        "colab_type": "code",
        "colab": {}
      },
      "source": [
        "df.iloc[ 10:21 , [0,4] ]"
      ],
      "execution_count": 0,
      "outputs": []
    },
    {
      "cell_type": "code",
      "metadata": {
        "id": "MeuOh5xF1_lL",
        "colab_type": "code",
        "colab": {}
      },
      "source": [
        "df.iloc[0] # First row of a data frame\n",
        "\n",
        "df.iloc[1:5, :-1] # Leave last columns\n",
        "\n",
        "df.iloc[:, 0] # First column\n",
        "\n",
        "df.iloc[:, -1] # Last column\n",
        "\n",
        "df.iloc[0:7] #First 7 rows\n",
        "\n",
        "df.iloc[:, 0:2] #First 2 columns\n",
        "\n",
        "df.iloc[1:3, 0:2] #Second through third rows and first 2 columns\n",
        "\n",
        "df.iloc[[0,5], [1,3]] #1st and 6throws and 2nd and 4thcolumns"
      ],
      "execution_count": 0,
      "outputs": []
    },
    {
      "cell_type": "code",
      "metadata": {
        "id": "jlsBFtTp4Nw1",
        "colab_type": "code",
        "colab": {}
      },
      "source": [
        ""
      ],
      "execution_count": 0,
      "outputs": []
    }
  ]
}